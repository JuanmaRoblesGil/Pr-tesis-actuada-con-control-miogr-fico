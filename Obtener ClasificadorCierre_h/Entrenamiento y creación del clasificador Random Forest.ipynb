{
  "nbformat": 4,
  "nbformat_minor": 0,
  "metadata": {
    "colab": {
      "provenance": []
    },
    "kernelspec": {
      "name": "python3",
      "display_name": "Python 3"
    },
    "language_info": {
      "name": "python"
    }
  },
  "cells": [
    {
      "cell_type": "code",
      "execution_count": 1,
      "metadata": {
        "colab": {
          "base_uri": "https://localhost:8080/"
        },
        "id": "-saDGGQDhsoM",
        "outputId": "10637904-f31a-48f0-971c-2dc6b17663d4"
      },
      "outputs": [
        {
          "output_type": "stream",
          "name": "stdout",
          "text": [
            "Looking in indexes: https://pypi.org/simple, https://us-python.pkg.dev/colab-wheels/public/simple/\n",
            "Collecting everywhereml\n",
            "  Downloading everywhereml-0.2.13.tar.gz (36 kB)\n",
            "  Preparing metadata (setup.py) ... \u001b[?25l\u001b[?25hdone\n",
            "Requirement already satisfied: numpy in /usr/local/lib/python3.8/dist-packages (from everywhereml) (1.21.6)\n",
            "Requirement already satisfied: pandas in /usr/local/lib/python3.8/dist-packages (from everywhereml) (1.3.5)\n",
            "Requirement already satisfied: seaborn in /usr/local/lib/python3.8/dist-packages (from everywhereml) (0.11.2)\n",
            "Requirement already satisfied: scikit-learn in /usr/local/lib/python3.8/dist-packages (from everywhereml) (1.0.2)\n",
            "Requirement already satisfied: scikit-image in /usr/local/lib/python3.8/dist-packages (from everywhereml) (0.18.3)\n",
            "Requirement already satisfied: Jinja2 in /usr/local/lib/python3.8/dist-packages (from everywhereml) (2.11.3)\n",
            "Collecting cached-property\n",
            "  Downloading cached_property-1.5.2-py2.py3-none-any.whl (7.6 kB)\n",
            "Collecting umap-learn\n",
            "  Downloading umap-learn-0.5.3.tar.gz (88 kB)\n",
            "\u001b[2K     \u001b[90m━━━━━━━━━━━━━━━━━━━━━━━━━━━━━━━━━━━━━━━━\u001b[0m \u001b[32m88.2/88.2 KB\u001b[0m \u001b[31m3.7 MB/s\u001b[0m eta \u001b[36m0:00:00\u001b[0m\n",
            "\u001b[?25h  Preparing metadata (setup.py) ... \u001b[?25l\u001b[?25hdone\n",
            "Requirement already satisfied: python-slugify in /usr/local/lib/python3.8/dist-packages (from everywhereml) (7.0.0)\n",
            "Collecting hexdump\n",
            "  Downloading hexdump-3.3.zip (12 kB)\n",
            "  Preparing metadata (setup.py) ... \u001b[?25l\u001b[?25hdone\n",
            "Collecting jinja2_workarounds\n",
            "  Downloading jinja2_workarounds-0.1.0-py3-none-any.whl (2.8 kB)\n",
            "Requirement already satisfied: requests in /usr/local/lib/python3.8/dist-packages (from everywhereml) (2.25.1)\n",
            "Collecting pySerial\n",
            "  Downloading pyserial-3.5-py2.py3-none-any.whl (90 kB)\n",
            "\u001b[2K     \u001b[90m━━━━━━━━━━━━━━━━━━━━━━━━━━━━━━━━━━━━━━━━\u001b[0m \u001b[32m90.6/90.6 KB\u001b[0m \u001b[31m8.1 MB/s\u001b[0m eta \u001b[36m0:00:00\u001b[0m\n",
            "\u001b[?25hRequirement already satisfied: MarkupSafe>=0.23 in /usr/local/lib/python3.8/dist-packages (from Jinja2->everywhereml) (2.0.1)\n",
            "Collecting Jinja2\n",
            "  Downloading Jinja2-3.1.2-py3-none-any.whl (133 kB)\n",
            "\u001b[2K     \u001b[90m━━━━━━━━━━━━━━━━━━━━━━━━━━━━━━━━━━━━━━━\u001b[0m \u001b[32m133.1/133.1 KB\u001b[0m \u001b[31m6.5 MB/s\u001b[0m eta \u001b[36m0:00:00\u001b[0m\n",
            "\u001b[?25hRequirement already satisfied: pytz>=2017.3 in /usr/local/lib/python3.8/dist-packages (from pandas->everywhereml) (2022.7)\n",
            "Requirement already satisfied: python-dateutil>=2.7.3 in /usr/local/lib/python3.8/dist-packages (from pandas->everywhereml) (2.8.2)\n",
            "Requirement already satisfied: text-unidecode>=1.3 in /usr/local/lib/python3.8/dist-packages (from python-slugify->everywhereml) (1.3)\n",
            "Requirement already satisfied: certifi>=2017.4.17 in /usr/local/lib/python3.8/dist-packages (from requests->everywhereml) (2022.12.7)\n",
            "Requirement already satisfied: idna<3,>=2.5 in /usr/local/lib/python3.8/dist-packages (from requests->everywhereml) (2.10)\n",
            "Requirement already satisfied: urllib3<1.27,>=1.21.1 in /usr/local/lib/python3.8/dist-packages (from requests->everywhereml) (1.24.3)\n",
            "Requirement already satisfied: chardet<5,>=3.0.2 in /usr/local/lib/python3.8/dist-packages (from requests->everywhereml) (4.0.0)\n",
            "Requirement already satisfied: matplotlib!=3.0.0,>=2.0.0 in /usr/local/lib/python3.8/dist-packages (from scikit-image->everywhereml) (3.2.2)\n",
            "Requirement already satisfied: tifffile>=2019.7.26 in /usr/local/lib/python3.8/dist-packages (from scikit-image->everywhereml) (2022.10.10)\n",
            "Requirement already satisfied: imageio>=2.3.0 in /usr/local/lib/python3.8/dist-packages (from scikit-image->everywhereml) (2.9.0)\n",
            "Requirement already satisfied: scipy>=1.0.1 in /usr/local/lib/python3.8/dist-packages (from scikit-image->everywhereml) (1.7.3)\n",
            "Requirement already satisfied: networkx>=2.0 in /usr/local/lib/python3.8/dist-packages (from scikit-image->everywhereml) (3.0)\n",
            "Requirement already satisfied: PyWavelets>=1.1.1 in /usr/local/lib/python3.8/dist-packages (from scikit-image->everywhereml) (1.4.1)\n",
            "Requirement already satisfied: pillow!=7.1.0,!=7.1.1,>=4.3.0 in /usr/local/lib/python3.8/dist-packages (from scikit-image->everywhereml) (7.1.2)\n",
            "Requirement already satisfied: joblib>=0.11 in /usr/local/lib/python3.8/dist-packages (from scikit-learn->everywhereml) (1.2.0)\n",
            "Requirement already satisfied: threadpoolctl>=2.0.0 in /usr/local/lib/python3.8/dist-packages (from scikit-learn->everywhereml) (3.1.0)\n",
            "Requirement already satisfied: numba>=0.49 in /usr/local/lib/python3.8/dist-packages (from umap-learn->everywhereml) (0.56.4)\n",
            "Collecting pynndescent>=0.5\n",
            "  Downloading pynndescent-0.5.8.tar.gz (1.1 MB)\n",
            "\u001b[2K     \u001b[90m━━━━━━━━━━━━━━━━━━━━━━━━━━━━━━━━━━━━━━━━\u001b[0m \u001b[32m1.1/1.1 MB\u001b[0m \u001b[31m11.3 MB/s\u001b[0m eta \u001b[36m0:00:00\u001b[0m\n",
            "\u001b[?25h  Preparing metadata (setup.py) ... \u001b[?25l\u001b[?25hdone\n",
            "Requirement already satisfied: tqdm in /usr/local/lib/python3.8/dist-packages (from umap-learn->everywhereml) (4.64.1)\n",
            "Requirement already satisfied: cycler>=0.10 in /usr/local/lib/python3.8/dist-packages (from matplotlib!=3.0.0,>=2.0.0->scikit-image->everywhereml) (0.11.0)\n",
            "Requirement already satisfied: kiwisolver>=1.0.1 in /usr/local/lib/python3.8/dist-packages (from matplotlib!=3.0.0,>=2.0.0->scikit-image->everywhereml) (1.4.4)\n",
            "Requirement already satisfied: pyparsing!=2.0.4,!=2.1.2,!=2.1.6,>=2.0.1 in /usr/local/lib/python3.8/dist-packages (from matplotlib!=3.0.0,>=2.0.0->scikit-image->everywhereml) (3.0.9)\n",
            "Requirement already satisfied: llvmlite<0.40,>=0.39.0dev0 in /usr/local/lib/python3.8/dist-packages (from numba>=0.49->umap-learn->everywhereml) (0.39.1)\n",
            "Requirement already satisfied: setuptools in /usr/local/lib/python3.8/dist-packages (from numba>=0.49->umap-learn->everywhereml) (57.4.0)\n",
            "Requirement already satisfied: importlib-metadata in /usr/local/lib/python3.8/dist-packages (from numba>=0.49->umap-learn->everywhereml) (6.0.0)\n",
            "Requirement already satisfied: six>=1.5 in /usr/local/lib/python3.8/dist-packages (from python-dateutil>=2.7.3->pandas->everywhereml) (1.15.0)\n",
            "Requirement already satisfied: zipp>=0.5 in /usr/local/lib/python3.8/dist-packages (from importlib-metadata->numba>=0.49->umap-learn->everywhereml) (3.11.0)\n",
            "Building wheels for collected packages: everywhereml, hexdump, umap-learn, pynndescent\n",
            "  Building wheel for everywhereml (setup.py) ... \u001b[?25l\u001b[?25hdone\n",
            "  Created wheel for everywhereml: filename=everywhereml-0.2.13-py3-none-any.whl size=73056 sha256=13ba64238a32b9c7e4453426ed71efac2d33ee46d4445d90d34b89452271e947\n",
            "  Stored in directory: /root/.cache/pip/wheels/a6/3b/d5/314c2cd1eb827f95646a18c8090c824a8e30964ba8ab86dbb8\n",
            "  Building wheel for hexdump (setup.py) ... \u001b[?25l\u001b[?25hdone\n",
            "  Created wheel for hexdump: filename=hexdump-3.3-py3-none-any.whl size=8913 sha256=8b0cb67567ded519eff77f4da55c4a9a48fc4a62ff05c9ab2017c32841d2ecd9\n",
            "  Stored in directory: /root/.cache/pip/wheels/7f/b7/72/1cc327e831ffef71bca1b0ca5e40b68471875f740ec9270c0f\n",
            "  Building wheel for umap-learn (setup.py) ... \u001b[?25l\u001b[?25hdone\n",
            "  Created wheel for umap-learn: filename=umap_learn-0.5.3-py3-none-any.whl size=82829 sha256=fcf9728b04d539e92659ccd8aabda8a48b72bb1030575500831b48d11795853d\n",
            "  Stored in directory: /root/.cache/pip/wheels/a9/3a/67/06a8950e053725912e6a8c42c4a3a241410f6487b8402542ea\n",
            "  Building wheel for pynndescent (setup.py) ... \u001b[?25l\u001b[?25hdone\n",
            "  Created wheel for pynndescent: filename=pynndescent-0.5.8-py3-none-any.whl size=55513 sha256=eafab916773ec673dd46cd4cac37f01013cc125a74b59ef8cfd8c71996e2a1e3\n",
            "  Stored in directory: /root/.cache/pip/wheels/1c/63/3a/29954bca1a27ba100ed8c27973a78cb71b43dc67aed62e80c3\n",
            "Successfully built everywhereml hexdump umap-learn pynndescent\n",
            "Installing collected packages: pySerial, hexdump, cached-property, Jinja2, jinja2_workarounds, pynndescent, umap-learn, everywhereml\n",
            "  Attempting uninstall: Jinja2\n",
            "    Found existing installation: Jinja2 2.11.3\n",
            "    Uninstalling Jinja2-2.11.3:\n",
            "      Successfully uninstalled Jinja2-2.11.3\n",
            "\u001b[31mERROR: pip's dependency resolver does not currently take into account all the packages that are installed. This behaviour is the source of the following dependency conflicts.\n",
            "notebook 5.7.16 requires jinja2<=3.0.0, but you have jinja2 3.1.2 which is incompatible.\n",
            "flask 1.1.4 requires Jinja2<3.0,>=2.10.1, but you have jinja2 3.1.2 which is incompatible.\u001b[0m\u001b[31m\n",
            "\u001b[0mSuccessfully installed Jinja2-3.1.2 cached-property-1.5.2 everywhereml-0.2.13 hexdump-3.3 jinja2_workarounds-0.1.0 pySerial-3.5 pynndescent-0.5.8 umap-learn-0.5.3\n"
          ]
        }
      ],
      "source": [
        "pip install everywhereml"
      ]
    },
    {
      "cell_type": "code",
      "source": [
        "#LOS DATOS\n",
        "import pandas\n",
        "import numpy as np\n",
        "\n",
        "from sklearn.model_selection import train_test_split\n",
        "\n",
        "datos = pandas.read_csv('EMGCierreRelajacion.csv', sep=\";\")\n",
        "\n",
        "# Las 8 primeras columnas son los características\n",
        "X= datos.values[:,:8]\n",
        "# La última columna se coonvierte en los etiquetas\n",
        "y= datos.values[:,8]\n",
        "\n",
        "# Dividimos los datos en estrenamiento y evaluación\n",
        "X_train, X_test, y_train, y_test = train_test_split(X, y, test_size=0.7, random_state=21, stratify = y)\n",
        "\n"
      ],
      "metadata": {
        "id": "S1O4RrjGjql0"
      },
      "execution_count": 2,
      "outputs": []
    },
    {
      "cell_type": "code",
      "source": [
        "\n",
        "#############################################################################\n",
        "####  RANDOM FOREST con nº de estimaciones = 50 y profundidad máxima 10 ####\n",
        "#############################################################################\n",
        "\n",
        "from everywhereml.sklearn.ensemble import RandomForestClassifier\n",
        "from sklearn.metrics     import accuracy_score\n",
        "from sklearn.metrics     import precision_recall_fscore_support\n",
        "from sklearn.metrics     import confusion_matrix\n",
        "\n",
        "#import pandas as pd\n",
        "#import string\n",
        "#import numpy as np\n",
        "import matplotlib.pyplot as plt\n",
        "import seaborn as sns\n",
        "\n",
        "# 1. Create an instance\n",
        "model = RandomForestClassifier(n_estimators=50,max_depth=10)\n",
        "\n",
        "# 2. Train the model\n",
        "model.fit(X_train, y_train)\n",
        "\n",
        "# 3. Predict\n",
        "y_pred = model.predict(X_test)\n",
        "\n",
        "# 4. Results\n",
        "print('Accuracy score: ', accuracy_score(y_test, y_pred))\n",
        "precision, recall, f1_score, _ = precision_recall_fscore_support(y_test, y_pred)\n",
        "print('Precision: ', precision.mean())\n",
        "print('Recall:    ', recall.mean())\n",
        "print('F1_score:  ', f1_score.mean())\n",
        "\n",
        "# 5. Plot Confusion matrix\n",
        "cm = confusion_matrix(y_test, y_pred)\n",
        "#print(cm)\n",
        "\n",
        "plt.figure(figsize=(8,8))\n",
        "sns.heatmap(cm, square=True, annot=True, cbar=False, cmap=\"YlGnBu\")\n",
        "plt.xlabel(\"Predicted value\")\n",
        "plt.ylabel(\"True value\")\n",
        "\n",
        "\n"
      ],
      "metadata": {
        "colab": {
          "base_uri": "https://localhost:8080/",
          "height": 584
        },
        "id": "43kjLkgJkJWe",
        "outputId": "061cede8-c09f-4c6f-f033-9b5d5a4452ac"
      },
      "execution_count": 3,
      "outputs": [
        {
          "output_type": "stream",
          "name": "stdout",
          "text": [
            "Accuracy score:  0.9186046511627907\n",
            "Precision:  0.9194322367050108\n",
            "Recall:     0.92013545947781\n",
            "F1_score:   0.9185936443542934\n"
          ]
        },
        {
          "output_type": "execute_result",
          "data": {
            "text/plain": [
              "Text(56.760000000000005, 0.5, 'True value')"
            ]
          },
          "metadata": {},
          "execution_count": 3
        },
        {
          "output_type": "display_data",
          "data": {
            "text/plain": [
              "<Figure size 576x576 with 1 Axes>"
            ],
            "image/png": "[encoded data removed]"
          },
          "metadata": {
            "needs_background": "light"
          }
        }
      ]
    },
    {
      "cell_type": "code",
      "source": [
        "\n",
        "'''\n",
        "  Now we convert the classifier to C++ with a single line of code\n",
        "  - instance_name will create an instance of the classifier in the produced code\n",
        "    (you will use this name later)\n",
        "'''\n",
        "# Abrir el archivo en modo de escritura\n",
        "with open(\"ClasificadorCierre.h\", \"w\") as f:\n",
        "    # Escribir el resultado en el archivo\n",
        "    f.write(model.to_arduino(instance_name='ClasificadorCierre'))\n",
        "    # Cerrar el archivo\n",
        "    f.close()\n",
        "\n"
      ],
      "metadata": {
        "id": "FWYm351Bkd3W"
      },
      "execution_count": 4,
      "outputs": []
    }
  ]
}